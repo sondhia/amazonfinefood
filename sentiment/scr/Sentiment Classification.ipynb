{
 "cells": [
  {
   "cell_type": "markdown",
   "id": "c4b7be0d-c356-48cb-808a-70c485be872e",
   "metadata": {},
   "source": [
    "Objective: Sentiment Classification\n",
    "Reviews categorized into positive, negative, or neutral sentiments, evaluated using accuracy\n"
   ]
  },
  {
   "cell_type": "markdown",
   "id": "56765fed-df10-4042-bed5-185dbf9eb4c3",
   "metadata": {},
   "source": [
    "Literature Review\n",
    "\n",
    "BERT: Pre-training of Deep Bidirectional Transformers for Language Understanding (Devlin et al., 2019)\n",
    "BERT (Bidirectional Encoder Representations from Transformers) revolutionized NLP by introducing deep bidirectional context understanding. BERT’s core principles, useful for classification tasks. Unlike previous models, it reads text both left-to-right and right-to-left simultaneously for better comprehension.\n",
    "BERT’s contextual embeddings significantly improve sentiment classification.\n",
    "Fine-tuning BERT on sentiment datasets achieves state-of-the-art accuracy.\n",
    "Pre-trained model: “bert-base-uncased” is commonly used for text classification tasks.\n",
    "\n",
    "\n",
    "DistilBERT: a distilled version of BERT: smaller, faster, cheaper and lighter (Sanh et al., 2019)\n",
    "Lighter and faster version of BERT trained using knowledge distillation. Retains 97% of BERT’s performance while being 60% smaller and 2× faster.\n",
    "Key Techniques:\n",
    "Removes Next Sentence Prediction (NSP).\n",
    "Reduces the number of layers from 12 → 6 while maintaining BERT-like embeddings.\n",
    "Trained to mimic BERT’s outputs while using fewer parameters.\n",
    "Much faster inference than BERT and RoBERTa. Requires less computational power (can run on CPUs efficiently). Great for real-time sentiment classification in production environments.\n",
    "\n",
    "\n",
    "Long Short-Term Memory (LSTM) Networks: a type of Recurrent Neural Network (RNN) designed to handle long-term dependencies in sequential data. (Ralf C. Staudemeyer, Eric Rothstein Morris 2019) \n",
    "LSTMs use gates (input, forget, output) to control information flow, solving vanishing gradient problems.\n",
    "Forget Gate: Decides which past information to discard.\n",
    "Input Gate: Determines which new information to store.\n",
    "Output Gate: Decides what to output for the next state.\n",
    "Impact on Sentiment Classification:\n",
    "Captures word dependencies in long reviews (e.g., “not great at all” vs. “great”).\n",
    "Better context retention than traditional RNNs.\n",
    "Helps classify sequential text effectively.\n",
    "\n",
    "\n",
    "Logistic Regression: a statistical model used for binary classification (positive vs. negative sentiment) (Husna et al., 2019; Cox, 1958)\n",
    "Uses sigmoid function to output probabilities between 0 and 1.\n",
    "Advantages in Sentiment Analysis:\n",
    "Interpretable – Coefficients indicate which words influence sentiment.\n",
    "Computationally efficient – Faster training than deep learning models.\n",
    "Works well with TF-IDF – Can effectively classify sentiment without needing deep networks.\n",
    "TF-IDF (Term Frequency-Inverse Document Frequency) is a statistical measure used to evaluate the importance of a word in a document relative to a collection (corpus). Converts raw text into numerical feature vectors for machine learning models. Captures important words related to sentiment (e.g., “great”, “terrible”).\n",
    "\n",
    "BERT took too much time and finally I compared Logistic Regression and LSTM models"
   ]
  },
  {
   "cell_type": "code",
   "execution_count": 1,
   "id": "fca581c8-9325-4aeb-be9c-73e7f5255922",
   "metadata": {},
   "outputs": [
    {
     "name": "stdout",
     "output_type": "stream",
     "text": [
      "<class 'pandas.core.frame.DataFrame'>\n",
      "RangeIndex: 1000 entries, 0 to 999\n",
      "Data columns (total 10 columns):\n",
      " #   Column                  Non-Null Count  Dtype \n",
      "---  ------                  --------------  ----- \n",
      " 0   Id                      1000 non-null   int64 \n",
      " 1   ProductId               1000 non-null   object\n",
      " 2   UserId                  1000 non-null   object\n",
      " 3   ProfileName             1000 non-null   object\n",
      " 4   HelpfulnessNumerator    1000 non-null   int64 \n",
      " 5   HelpfulnessDenominator  1000 non-null   int64 \n",
      " 6   Score                   1000 non-null   int64 \n",
      " 7   Time                    1000 non-null   int64 \n",
      " 8   Summary                 1000 non-null   object\n",
      " 9   Text                    1000 non-null   object\n",
      "dtypes: int64(5), object(5)\n",
      "memory usage: 78.2+ KB\n",
      "None\n",
      "   Id   ProductId          UserId                      ProfileName  \\\n",
      "0   1  B001E4KFG0  A3SGXH7AUHU8GW                       delmartian   \n",
      "1   2  B00813GRG4  A1D87F6ZCVE5NK                           dll pa   \n",
      "2   3  B000LQOCH0   ABXLMWJIXXAIN  Natalia Corres \"Natalia Corres\"   \n",
      "3   4  B000UA0QIQ  A395BORC6FGVXV                             Karl   \n",
      "4   5  B006K2ZZ7K  A1UQRSCLF8GW1T    Michael D. Bigham \"M. Wassir\"   \n",
      "\n",
      "   HelpfulnessNumerator  HelpfulnessDenominator  Score        Time  \\\n",
      "0                     1                       1      5  1303862400   \n",
      "1                     0                       0      1  1346976000   \n",
      "2                     1                       1      4  1219017600   \n",
      "3                     3                       3      2  1307923200   \n",
      "4                     0                       0      5  1350777600   \n",
      "\n",
      "                 Summary                                               Text  \n",
      "0  Good Quality Dog Food  I have bought several of the Vitality canned d...  \n",
      "1      Not as Advertised  Product arrived labeled as Jumbo Salted Peanut...  \n",
      "2  \"Delight\" says it all  This is a confection that has been around a fe...  \n",
      "3         Cough Medicine  If you are looking for the secret ingredient i...  \n",
      "4            Great taffy  Great taffy at a great price.  There was a wid...  \n",
      "Id                        0\n",
      "ProductId                 0\n",
      "UserId                    0\n",
      "ProfileName               0\n",
      "HelpfulnessNumerator      0\n",
      "HelpfulnessDenominator    0\n",
      "Score                     0\n",
      "Time                      0\n",
      "Summary                   0\n",
      "Text                      0\n",
      "dtype: int64\n"
     ]
    }
   ],
   "source": [
    "#load data and preprocess for test two models on small set of data\n",
    "import pandas as pd\n",
    "import matplotlib.pyplot as plt\n",
    "\n",
    "# Load dataset\n",
    "file_path = \"Final Project/Amazon_review.csv\"\n",
    "df = pd.read_csv(file_path, nrows=1000)\n",
    "\n",
    "# Display basic information\n",
    "print(df.info())\n",
    "print(df.head())\n",
    "\n",
    "# Check for missing values\n",
    "print(df.isnull().sum())"
   ]
  },
  {
   "cell_type": "code",
   "execution_count": 13,
   "id": "732e41a1-b06f-4643-a53a-cdd05ce3c044",
   "metadata": {},
   "outputs": [
    {
     "data": {
      "image/png": "[encoded data removed]",
      "text/plain": [
       "<Figure size 1000x500 with 1 Axes>"
      ]
     },
     "metadata": {},
     "output_type": "display_data"
    }
   ],
   "source": [
    "ax = df['Score'].value_counts().sort_index() \\\n",
    "    .plot(kind='bar',\n",
    "          title='Count of Reviews by Stars',\n",
    "          figsize=(10, 5))\n",
    "ax.set_xlabel('Review Stars')\n",
    "plt.show()"
   ]
  },
  {
   "cell_type": "code",
   "execution_count": 3,
   "id": "68882956-060f-4144-afc6-18e71b48ff4a",
   "metadata": {},
   "outputs": [],
   "source": [
    "from sklearn.model_selection import train_test_split\n",
    "from sklearn.feature_extraction.text import TfidfVectorizer\n",
    "from sklearn.linear_model import LogisticRegression\n",
    "from sklearn.metrics import classification_report\n",
    "\n",
    "# Convert Score into Sentiment Labels\n",
    "def label_sentiment(score):\n",
    "    if score >= 4:\n",
    "        return 1  # Positive\n",
    "    elif score == 3:\n",
    "        return 0  # Neutral\n",
    "    else:\n",
    "        return -1  # Negative\n",
    "\n",
    "df[\"Sentiment\"] = df[\"Score\"].apply(label_sentiment)\n",
    "\n",
    "# Split data\n",
    "X_train, X_test, y_train, y_test = train_test_split(df[\"Text\"], df[\"Sentiment\"], test_size=0.2, random_state=42)\n"
   ]
  },
  {
   "cell_type": "code",
   "execution_count": 17,
   "id": "08870f82-c7e5-4ce8-be54-846a5c27ee35",
   "metadata": {},
   "outputs": [
    {
     "name": "stdout",
     "output_type": "stream",
     "text": [
      "Logistic Regression Performance:\n",
      "              precision    recall  f1-score   support\n",
      "\n",
      "    Negative       1.00      0.04      0.08        25\n",
      "     Neutral       0.00      0.00      0.00        11\n",
      "    Positive       0.82      1.00      0.90       164\n",
      "\n",
      "    accuracy                           0.82       200\n",
      "   macro avg       0.61      0.35      0.33       200\n",
      "weighted avg       0.80      0.82      0.75       200\n",
      "\n"
     ]
    },
    {
     "name": "stderr",
     "output_type": "stream",
     "text": [
      "/opt/anaconda3/lib/python3.10/site-packages/sklearn/metrics/_classification.py:1531: UndefinedMetricWarning: Precision is ill-defined and being set to 0.0 in labels with no predicted samples. Use `zero_division` parameter to control this behavior.\n",
      "  _warn_prf(average, modifier, f\"{metric.capitalize()} is\", len(result))\n",
      "/opt/anaconda3/lib/python3.10/site-packages/sklearn/metrics/_classification.py:1531: UndefinedMetricWarning: Precision is ill-defined and being set to 0.0 in labels with no predicted samples. Use `zero_division` parameter to control this behavior.\n",
      "  _warn_prf(average, modifier, f\"{metric.capitalize()} is\", len(result))\n",
      "/opt/anaconda3/lib/python3.10/site-packages/sklearn/metrics/_classification.py:1531: UndefinedMetricWarning: Precision is ill-defined and being set to 0.0 in labels with no predicted samples. Use `zero_division` parameter to control this behavior.\n",
      "  _warn_prf(average, modifier, f\"{metric.capitalize()} is\", len(result))\n"
     ]
    }
   ],
   "source": [
    "#TF-IDF + Logistic Regression\n",
    "\n",
    "from sklearn.feature_extraction.text import TfidfVectorizer\n",
    "from sklearn.linear_model import LogisticRegression\n",
    "from sklearn.metrics import classification_report\n",
    "\n",
    "# TF-IDF Vectorization\n",
    "vectorizer = TfidfVectorizer(max_features=5000)\n",
    "X_train_tfidf = vectorizer.fit_transform(X_train)\n",
    "X_test_tfidf = vectorizer.transform(X_test)\n",
    "\n",
    "# Train Logistic Regression Model\n",
    "lr_model = LogisticRegression()\n",
    "lr_model.fit(X_train_tfidf, y_train)\n",
    "\n",
    "# Predictions & Evaluation\n",
    "y_pred_lr = lr_model.predict(X_test_tfidf)\n",
    "print(\"Logistic Regression Performance:\")\n",
    "print(classification_report(y_test, y_pred_lr, target_names=[\"Negative\", \"Neutral\", \"Positive\"]))\n"
   ]
  },
  {
   "cell_type": "code",
   "execution_count": 19,
   "id": "772eb6fb-62b7-4360-9688-bff92e1bafc2",
   "metadata": {},
   "outputs": [
    {
     "name": "stdout",
     "output_type": "stream",
     "text": [
      "Epoch 1/5, Loss: 22.3219\n",
      "Epoch 2/5, Loss: 16.6920\n",
      "Epoch 3/5, Loss: 15.0951\n",
      "Epoch 4/5, Loss: 12.9535\n",
      "Epoch 5/5, Loss: 10.0886\n",
      "LSTM Performance:\n",
      "              precision    recall  f1-score   support\n",
      "\n",
      "    Negative       0.24      0.16      0.19        25\n",
      "     Neutral       0.50      0.09      0.15        11\n",
      "    Positive       0.83      0.92      0.88       164\n",
      "\n",
      "    accuracy                           0.78       200\n",
      "   macro avg       0.52      0.39      0.41       200\n",
      "weighted avg       0.74      0.78      0.75       200\n",
      "\n"
     ]
    }
   ],
   "source": [
    "#LSTM\n",
    "import torch\n",
    "import torch.nn as nn\n",
    "import torch.optim as optim\n",
    "from torch.utils.data import DataLoader, TensorDataset\n",
    "from tensorflow.keras.preprocessing.text import Tokenizer\n",
    "from tensorflow.keras.preprocessing.sequence import pad_sequences\n",
    "from sklearn.preprocessing import LabelEncoder\n",
    "\n",
    "# Tokenization\n",
    "MAX_NUM_WORDS = 5000\n",
    "MAX_SEQUENCE_LENGTH = 100\n",
    "\n",
    "tokenizer = Tokenizer(num_words=MAX_NUM_WORDS)\n",
    "tokenizer.fit_on_texts(X_train)\n",
    "\n",
    "X_train_seq = tokenizer.texts_to_sequences(X_train)\n",
    "X_test_seq = tokenizer.texts_to_sequences(X_test)\n",
    "\n",
    "X_train_pad = pad_sequences(X_train_seq, maxlen=MAX_SEQUENCE_LENGTH)\n",
    "X_test_pad = pad_sequences(X_test_seq, maxlen=MAX_SEQUENCE_LENGTH)\n",
    "\n",
    "# Convert labels to tensors\n",
    "label_encoder = LabelEncoder()\n",
    "y_train_enc = torch.tensor(label_encoder.fit_transform(y_train), dtype=torch.long)\n",
    "y_test_enc = torch.tensor(label_encoder.transform(y_test), dtype=torch.long)\n",
    "\n",
    "# Create DataLoader\n",
    "batch_size = 32\n",
    "train_dataset = TensorDataset(torch.tensor(X_train_pad, dtype=torch.long), y_train_enc)\n",
    "test_dataset = TensorDataset(torch.tensor(X_test_pad, dtype=torch.long), y_test_enc)\n",
    "\n",
    "train_loader = DataLoader(train_dataset, batch_size=batch_size, shuffle=True)\n",
    "test_loader = DataLoader(test_dataset, batch_size=batch_size, shuffle=False)\n",
    "\n",
    "# Define LSTM Model\n",
    "class SentimentLSTM(nn.Module):\n",
    "    def __init__(self, vocab_size, embedding_dim=128, hidden_dim=128, output_dim=3):\n",
    "        super(SentimentLSTM, self).__init__()\n",
    "        self.embedding = nn.Embedding(vocab_size, embedding_dim)\n",
    "        self.lstm = nn.LSTM(embedding_dim, hidden_dim, batch_first=True)\n",
    "        self.fc = nn.Linear(hidden_dim, output_dim)\n",
    "    \n",
    "    def forward(self, x):\n",
    "        x = self.embedding(x)\n",
    "        _, (hidden, _) = self.lstm(x)\n",
    "        return self.fc(hidden[-1])\n",
    "\n",
    "# Initialize model\n",
    "vocab_size = min(MAX_NUM_WORDS, len(tokenizer.word_index) + 1)\n",
    "model = SentimentLSTM(vocab_size)\n",
    "\n",
    "# Training setup\n",
    "criterion = nn.CrossEntropyLoss()\n",
    "optimizer = optim.Adam(model.parameters(), lr=0.001)\n",
    "\n",
    "# Train LSTM Model\n",
    "num_epochs = 5\n",
    "device = torch.device(\"cuda\" if torch.cuda.is_available() else \"cpu\")\n",
    "model.to(device)\n",
    "\n",
    "for epoch in range(num_epochs):\n",
    "    model.train()\n",
    "    total_loss = 0\n",
    "    for inputs, labels in train_loader:\n",
    "        inputs, labels = inputs.to(device), labels.to(device)\n",
    "        optimizer.zero_grad()\n",
    "        outputs = model(inputs)\n",
    "        loss = criterion(outputs, labels)\n",
    "        loss.backward()\n",
    "        optimizer.step()\n",
    "        total_loss += loss.item()\n",
    "    \n",
    "    print(f\"Epoch {epoch+1}/{num_epochs}, Loss: {total_loss:.4f}\")\n",
    "\n",
    "# Evaluate LSTM Model\n",
    "model.eval()\n",
    "y_pred_lstm = []\n",
    "y_true = []\n",
    "\n",
    "with torch.no_grad():\n",
    "    for inputs, labels in test_loader:\n",
    "        inputs, labels = inputs.to(device), labels.to(device)\n",
    "        outputs = model(inputs)\n",
    "        _, predicted = torch.max(outputs, 1)\n",
    "        y_pred_lstm.extend(predicted.cpu().numpy())\n",
    "        y_true.extend(labels.cpu().numpy())\n",
    "\n",
    "print(\"LSTM Performance:\")\n",
    "print(classification_report(y_true, y_pred_lstm, target_names=[\"Negative\", \"Neutral\", \"Positive\"]))\n"
   ]
  },
  {
   "cell_type": "code",
   "execution_count": 5,
   "id": "8e388437-6f82-4481-86e5-e56540d1d30a",
   "metadata": {},
   "outputs": [
    {
     "data": {
      "application/vnd.jupyter.widget-view+json": {
       "model_id": "b7eeb53b92a0406d971097140827cd70",
       "version_major": 2,
       "version_minor": 0
      },
      "text/plain": [
       "Map:   0%|          | 0/1000 [00:00<?, ? examples/s]"
      ]
     },
     "metadata": {},
     "output_type": "display_data"
    },
    {
     "name": "stderr",
     "output_type": "stream",
     "text": [
      "Some weights of DistilBertForSequenceClassification were not initialized from the model checkpoint at distilbert-base-uncased and are newly initialized: ['classifier.bias', 'classifier.weight', 'pre_classifier.bias', 'pre_classifier.weight']\n",
      "You should probably TRAIN this model on a down-stream task to be able to use it for predictions and inference.\n",
      "/opt/anaconda3/lib/python3.10/site-packages/transformers/training_args.py:1594: FutureWarning: `evaluation_strategy` is deprecated and will be removed in version 4.46 of 🤗 Transformers. Use `eval_strategy` instead\n",
      "  warnings.warn(\n"
     ]
    },
    {
     "data": {
      "text/html": [
       "\n",
       "    <div>\n",
       "      \n",
       "      <progress value='300' max='300' style='width:300px; height:20px; vertical-align: middle;'></progress>\n",
       "      [300/300 03:13, Epoch 3/3]\n",
       "    </div>\n",
       "    <table border=\"1\" class=\"dataframe\">\n",
       "  <thead>\n",
       " <tr style=\"text-align: left;\">\n",
       "      <th>Epoch</th>\n",
       "      <th>Training Loss</th>\n",
       "      <th>Validation Loss</th>\n",
       "    </tr>\n",
       "  </thead>\n",
       "  <tbody>\n",
       "    <tr>\n",
       "      <td>1</td>\n",
       "      <td>No log</td>\n",
       "      <td>0.369913</td>\n",
       "    </tr>\n",
       "    <tr>\n",
       "      <td>2</td>\n",
       "      <td>No log</td>\n",
       "      <td>0.355899</td>\n",
       "    </tr>\n",
       "    <tr>\n",
       "      <td>3</td>\n",
       "      <td>No log</td>\n",
       "      <td>0.328512</td>\n",
       "    </tr>\n",
       "  </tbody>\n",
       "</table><p>"
      ],
      "text/plain": [
       "<IPython.core.display.HTML object>"
      ]
     },
     "metadata": {},
     "output_type": "display_data"
    },
    {
     "data": {
      "text/html": [],
      "text/plain": [
       "<IPython.core.display.HTML object>"
      ]
     },
     "metadata": {},
     "output_type": "display_data"
    },
    {
     "data": {
      "text/plain": [
       "{'eval_loss': 0.32851243019104004,\n",
       " 'eval_runtime': 4.7309,\n",
       " 'eval_samples_per_second': 42.276,\n",
       " 'eval_steps_per_second': 5.284,\n",
       " 'epoch': 3.0}"
      ]
     },
     "execution_count": 5,
     "metadata": {},
     "output_type": "execute_result"
    }
   ],
   "source": [
    "# DistilBERT fine-tuning\n",
    "import numpy as np\n",
    "import torch\n",
    "from transformers import DistilBertTokenizer, DistilBertForSequenceClassification, Trainer, TrainingArguments\n",
    "from datasets import Dataset\n",
    "\n",
    "# Load DistilBERT tokenizer\n",
    "tokenizer = DistilBertTokenizer.from_pretrained(\"distilbert-base-uncased\")\n",
    "\n",
    "# Tokenization function\n",
    "def tokenize_function(examples):\n",
    "    return tokenizer(examples[\"Text\"], padding=\"max_length\", truncation=True, max_length=512)\n",
    "\n",
    "# Convert Pandas DataFrame to Hugging Face Dataset\n",
    "dataset = Dataset.from_pandas(df)\n",
    "dataset = dataset.map(tokenize_function, batched=True)\n",
    "\n",
    "# Rename \"Sentiment\" column to \"labels\" for compatibility with Trainer\n",
    "dataset = dataset.rename_column(\"Sentiment\", \"labels\")\n",
    "\n",
    "# Train-Test Split\n",
    "dataset = dataset.train_test_split(test_size=0.2)\n",
    "\n",
    "# Load DistilBERT model for classification\n",
    "model = DistilBertForSequenceClassification.from_pretrained(\"distilbert-base-uncased\", num_labels=3)\n",
    "\n",
    "# Define Training Arguments\n",
    "training_args = TrainingArguments(\n",
    "    output_dir=\"./distilbert_results\",\n",
    "    eval_strategy=\"epoch\",\n",
    "    save_strategy=\"epoch\",\n",
    "    per_device_train_batch_size=8,\n",
    "    per_device_eval_batch_size=8,\n",
    "    num_train_epochs=3,\n",
    "    weight_decay=0.01,\n",
    "    logging_dir=\"./logs\",\n",
    "    logging_steps=500,\n",
    ")\n",
    "\n",
    "# Trainer setup\n",
    "trainer = Trainer(\n",
    "    model=model,\n",
    "    args=training_args,\n",
    "    train_dataset=dataset[\"train\"],\n",
    "    eval_dataset=dataset[\"test\"],\n",
    ")\n",
    "\n",
    "# Train DistilBERT Model\n",
    "trainer.train()\n",
    "\n",
    "# Evaluate DistilBERT Model\n",
    "results = trainer.evaluate()\n",
    "results\n"
   ]
  },
  {
   "cell_type": "code",
   "execution_count": 9,
   "id": "b67f2dec-caf4-4d48-a125-5372451f25d8",
   "metadata": {},
   "outputs": [
    {
     "data": {
      "text/html": [],
      "text/plain": [
       "<IPython.core.display.HTML object>"
      ]
     },
     "metadata": {},
     "output_type": "display_data"
    },
    {
     "name": "stdout",
     "output_type": "stream",
     "text": [
      "Classification Report:\n",
      "               precision    recall  f1-score   support\n",
      "\n",
      "    Negative       0.00      0.00      0.00        34\n",
      "     Neutral       0.00      0.00      0.00        19\n",
      "    Positive       0.73      1.00      0.85       147\n",
      "\n",
      "    accuracy                           0.73       200\n",
      "   macro avg       0.24      0.33      0.28       200\n",
      "weighted avg       0.54      0.73      0.62       200\n",
      "\n"
     ]
    },
    {
     "name": "stderr",
     "output_type": "stream",
     "text": [
      "/opt/anaconda3/lib/python3.10/site-packages/sklearn/metrics/_classification.py:1531: UndefinedMetricWarning: Precision is ill-defined and being set to 0.0 in labels with no predicted samples. Use `zero_division` parameter to control this behavior.\n",
      "  _warn_prf(average, modifier, f\"{metric.capitalize()} is\", len(result))\n",
      "/opt/anaconda3/lib/python3.10/site-packages/sklearn/metrics/_classification.py:1531: UndefinedMetricWarning: Precision is ill-defined and being set to 0.0 in labels with no predicted samples. Use `zero_division` parameter to control this behavior.\n",
      "  _warn_prf(average, modifier, f\"{metric.capitalize()} is\", len(result))\n",
      "/opt/anaconda3/lib/python3.10/site-packages/sklearn/metrics/_classification.py:1531: UndefinedMetricWarning: Precision is ill-defined and being set to 0.0 in labels with no predicted samples. Use `zero_division` parameter to control this behavior.\n",
      "  _warn_prf(average, modifier, f\"{metric.capitalize()} is\", len(result))\n"
     ]
    }
   ],
   "source": [
    "\n",
    "# Make predictions on the test dataset\n",
    "predictions = trainer.predict(dataset[\"test\"])\n",
    "\n",
    "# Convert logits to predicted class labels\n",
    "y_pred = np.argmax(predictions.predictions, axis=1)\n",
    "y_true = dataset[\"test\"][\"labels\"]\n",
    "\n",
    "# Generate classification report\n",
    "eval_report = classification_report(y_true, y_pred, target_names=[\"Negative\", \"Neutral\", \"Positive\"])\n",
    "print(\"Classification Report:\\n\", eval_report)"
   ]
  },
  {
   "cell_type": "code",
   "execution_count": null,
   "id": "92e93818-8170-4b33-8420-cc6d344dfd68",
   "metadata": {},
   "outputs": [],
   "source": []
  }
 ],
 "metadata": {
  "kernelspec": {
   "display_name": "Python [conda env:base] *",
   "language": "python",
   "name": "conda-base-py"
  },
  "language_info": {
   "codemirror_mode": {
    "name": "ipython",
    "version": 3
   },
   "file_extension": ".py",
   "mimetype": "text/x-python",
   "name": "python",
   "nbconvert_exporter": "python",
   "pygments_lexer": "ipython3",
   "version": "3.10.13"
  }
 },
 "nbformat": 4,
 "nbformat_minor": 5
}
