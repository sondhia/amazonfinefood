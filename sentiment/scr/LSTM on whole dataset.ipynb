{
 "cells": [
  {
   "cell_type": "markdown",
   "id": "e2526297-ae07-4574-8c90-b0bd13b2d385",
   "metadata": {},
   "source": [
    "## Objective: Sentiment Classification Reviews categorized into positive, negative, or neutral sentiments, evaluated using accuracy"
   ]
  },
  {
   "cell_type": "markdown",
   "id": "4fd957f8-01d8-4fd3-9eaf-25da911869d9",
   "metadata": {},
   "source": [
    "Previously, we have compared three models for sentiment classidication on a subset of the raw dataset: Logistic Regression, LSTM models and DistilBERT. Consider best performce for malti-class analysis and save time, we will use LSTM model on the whole dataset."
   ]
  },
  {
   "cell_type": "code",
   "execution_count": 15,
   "id": "bfe59452-8161-4ba7-8868-6b3f9e676637",
   "metadata": {},
   "outputs": [],
   "source": [
    "import pandas as pd\n",
    "import numpy as np\n",
    "import matplotlib.pyplot as plt\n",
    "import seaborn as sns\n",
    "import re\n",
    "from sklearn.model_selection import train_test_split\n",
    "from sklearn.metrics import accuracy_score, classification_report, f1_score, confusion_matrix\n",
    "from sklearn.utils.class_weight import compute_class_weight\n",
    "\n",
    "import tensorflow as tf\n",
    "from tensorflow.keras.preprocessing.text import Tokenizer\n",
    "from tensorflow.keras.preprocessing.sequence import pad_sequences\n",
    "from tensorflow.keras.models import Sequential\n",
    "from tensorflow.keras.layers import Embedding, LSTM, Dense, Dropout"
   ]
  },
  {
   "cell_type": "code",
   "execution_count": 5,
   "id": "28211499-320f-49a2-a9b4-eb04b4fe44c0",
   "metadata": {},
   "outputs": [
    {
     "name": "stdout",
     "output_type": "stream",
     "text": [
      "<class 'pandas.core.frame.DataFrame'>\n",
      "RangeIndex: 18447 entries, 0 to 18446\n",
      "Data columns (total 10 columns):\n",
      " #   Column                  Non-Null Count  Dtype \n",
      "---  ------                  --------------  ----- \n",
      " 0   Id                      18447 non-null  int64 \n",
      " 1   ProductId               18447 non-null  object\n",
      " 2   UserId                  18447 non-null  object\n",
      " 3   ProfileName             18446 non-null  object\n",
      " 4   HelpfulnessNumerator    18447 non-null  int64 \n",
      " 5   HelpfulnessDenominator  18447 non-null  int64 \n",
      " 6   Score                   18447 non-null  int64 \n",
      " 7   Time                    18447 non-null  int64 \n",
      " 8   Summary                 18447 non-null  object\n",
      " 9   Text                    18447 non-null  object\n",
      "dtypes: int64(5), object(5)\n",
      "memory usage: 1.4+ MB\n",
      "None\n",
      "   Id   ProductId          UserId                      ProfileName  \\\n",
      "0   1  B001E4KFG0  A3SGXH7AUHU8GW                       delmartian   \n",
      "1   2  B00813GRG4  A1D87F6ZCVE5NK                           dll pa   \n",
      "2   3  B000LQOCH0   ABXLMWJIXXAIN  Natalia Corres \"Natalia Corres\"   \n",
      "3   4  B000UA0QIQ  A395BORC6FGVXV                             Karl   \n",
      "4   5  B006K2ZZ7K  A1UQRSCLF8GW1T    Michael D. Bigham \"M. Wassir\"   \n",
      "\n",
      "   HelpfulnessNumerator  HelpfulnessDenominator  Score        Time  \\\n",
      "0                     1                       1      5  1303862400   \n",
      "1                     0                       0      1  1346976000   \n",
      "2                     1                       1      4  1219017600   \n",
      "3                     3                       3      2  1307923200   \n",
      "4                     0                       0      5  1350777600   \n",
      "\n",
      "                 Summary                                               Text  \n",
      "0  Good Quality Dog Food  I have bought several of the Vitality canned d...  \n",
      "1      Not as Advertised  Product arrived labeled as Jumbo Salted Peanut...  \n",
      "2  \"Delight\" says it all  This is a confection that has been around a fe...  \n",
      "3         Cough Medicine  If you are looking for the secret ingredient i...  \n",
      "4            Great taffy  Great taffy at a great price.  There was a wid...  \n",
      "Id                        0\n",
      "ProductId                 0\n",
      "UserId                    0\n",
      "ProfileName               1\n",
      "HelpfulnessNumerator      0\n",
      "HelpfulnessDenominator    0\n",
      "Score                     0\n",
      "Time                      0\n",
      "Summary                   0\n",
      "Text                      0\n",
      "dtype: int64\n"
     ]
    }
   ],
   "source": [
    "# Load dataset\n",
    "file_path = \"Final Project/Amazon_review.csv\"\n",
    "df = pd.read_csv(file_path)\n",
    "\n",
    "# Display basic information\n",
    "print(df.info())\n",
    "print(df.head())\n",
    "\n",
    "# Check for missing values\n",
    "print(df.isnull().sum())"
   ]
  },
  {
   "cell_type": "code",
   "execution_count": 7,
   "id": "91043dde-96c2-4796-9116-0cb5079f67b7",
   "metadata": {},
   "outputs": [],
   "source": [
    "# Remove rows with any missing values\n",
    "df = df.dropna()"
   ]
  },
  {
   "cell_type": "code",
   "execution_count": 9,
   "id": "87286db5-5e5f-48f0-ba6a-0e6497aba56a",
   "metadata": {},
   "outputs": [
    {
     "name": "stdout",
     "output_type": "stream",
     "text": [
      "<class 'pandas.core.frame.DataFrame'>\n",
      "Index: 18446 entries, 0 to 18446\n",
      "Data columns (total 10 columns):\n",
      " #   Column                  Non-Null Count  Dtype \n",
      "---  ------                  --------------  ----- \n",
      " 0   Id                      18446 non-null  int64 \n",
      " 1   ProductId               18446 non-null  object\n",
      " 2   UserId                  18446 non-null  object\n",
      " 3   ProfileName             18446 non-null  object\n",
      " 4   HelpfulnessNumerator    18446 non-null  int64 \n",
      " 5   HelpfulnessDenominator  18446 non-null  int64 \n",
      " 6   Score                   18446 non-null  int64 \n",
      " 7   Time                    18446 non-null  int64 \n",
      " 8   Summary                 18446 non-null  object\n",
      " 9   Text                    18446 non-null  object\n",
      "dtypes: int64(5), object(5)\n",
      "memory usage: 1.5+ MB\n",
      "None\n",
      "   Id   ProductId          UserId                      ProfileName  \\\n",
      "0   1  B001E4KFG0  A3SGXH7AUHU8GW                       delmartian   \n",
      "1   2  B00813GRG4  A1D87F6ZCVE5NK                           dll pa   \n",
      "2   3  B000LQOCH0   ABXLMWJIXXAIN  Natalia Corres \"Natalia Corres\"   \n",
      "3   4  B000UA0QIQ  A395BORC6FGVXV                             Karl   \n",
      "4   5  B006K2ZZ7K  A1UQRSCLF8GW1T    Michael D. Bigham \"M. Wassir\"   \n",
      "\n",
      "   HelpfulnessNumerator  HelpfulnessDenominator  Score        Time  \\\n",
      "0                     1                       1      5  1303862400   \n",
      "1                     0                       0      1  1346976000   \n",
      "2                     1                       1      4  1219017600   \n",
      "3                     3                       3      2  1307923200   \n",
      "4                     0                       0      5  1350777600   \n",
      "\n",
      "                 Summary                                               Text  \n",
      "0  Good Quality Dog Food  I have bought several of the Vitality canned d...  \n",
      "1      Not as Advertised  Product arrived labeled as Jumbo Salted Peanut...  \n",
      "2  \"Delight\" says it all  This is a confection that has been around a fe...  \n",
      "3         Cough Medicine  If you are looking for the secret ingredient i...  \n",
      "4            Great taffy  Great taffy at a great price.  There was a wid...  \n",
      "Id                        0\n",
      "ProductId                 0\n",
      "UserId                    0\n",
      "ProfileName               0\n",
      "HelpfulnessNumerator      0\n",
      "HelpfulnessDenominator    0\n",
      "Score                     0\n",
      "Time                      0\n",
      "Summary                   0\n",
      "Text                      0\n",
      "dtype: int64\n"
     ]
    }
   ],
   "source": [
    "# Check for missing values\n",
    "print(df.info())\n",
    "print(df.head())\n",
    "print(df.isnull().sum())"
   ]
  },
  {
   "cell_type": "code",
   "execution_count": 11,
   "id": "8722924f-07b6-4507-a3d4-5bfc0be17fcf",
   "metadata": {},
   "outputs": [],
   "source": [
    "# Define a function to clean text data\n",
    "def clean_text(text):\n",
    "    # 1. Lowercase the text\n",
    "    text = text.lower()\n",
    "    # 2. Remove HTML tags/headers\n",
    "    text = re.sub(r'<[^>]+>', ' ', text)\n",
    "    # 3. Remove non-alphabetic characters (keeping letters and whitespace)\n",
    "    text = re.sub(r'[^a-z\\s]', ' ', text)\n",
    "    # 4. Remove extra spaces\n",
    "    text = re.sub(r'\\s+', ' ', text).strip()\n",
    "    return text"
   ]
  },
  {
   "cell_type": "code",
   "execution_count": 17,
   "id": "4af6c240-3117-4ef8-8479-17add01f0d54",
   "metadata": {},
   "outputs": [],
   "source": [
    "# Clean the 'Text' column using the defined function\n",
    "df['Text'] = df['Text'].apply(clean_text)"
   ]
  },
  {
   "cell_type": "code",
   "execution_count": 19,
   "id": "eb82304c-4963-4cd9-af8d-5b8576dce338",
   "metadata": {},
   "outputs": [],
   "source": [
    "# Convert Score into Sentiment Labels\n",
    "def label_sentiment(score):\n",
    "    if score >= 4:\n",
    "        return 2  # Positive\n",
    "    elif score == 3:\n",
    "        return 1  # Neutral\n",
    "    else:\n",
    "        return 0  # Negative\n",
    "\n",
    "df[\"Sentiment\"] = df[\"Score\"].apply(label_sentiment)"
   ]
  },
  {
   "cell_type": "code",
   "execution_count": 21,
   "id": "8e94ee66-24ce-4dbb-9d9b-9637dcf3eabe",
   "metadata": {},
   "outputs": [],
   "source": [
    "#Significant imbalance here, we need to compute the Class Weights\n",
    "# Define features and target\n",
    "X = df['Text']      \n",
    "y = df['Sentiment'] \n",
    "\n",
    "# Split data into training and test sets \n",
    "X_train, X_test, y_train, y_test = train_test_split(\n",
    "    X, y, test_size=0.2, random_state=42, stratify=y)"
   ]
  },
  {
   "cell_type": "code",
   "execution_count": 23,
   "id": "c04711ef-96b2-490d-83c4-88d6a7f59a33",
   "metadata": {},
   "outputs": [],
   "source": [
    "# Initialize and fit the tokenizer on training data\n",
    "tokenizer = Tokenizer(num_words=10000, oov_token=\"<OOV>\")\n",
    "tokenizer.fit_on_texts(X_train)\n",
    "\n",
    "# Convert texts to sequences\n",
    "X_train_seq = tokenizer.texts_to_sequences(X_train)\n",
    "X_test_seq = tokenizer.texts_to_sequences(X_test)\n",
    "\n",
    "# Pad the sequences to ensure uniform input length\n",
    "X_train_pad = pad_sequences(X_train_seq, maxlen=100, padding='post')\n",
    "X_test_pad = pad_sequences(X_test_seq, maxlen=100, padding='post')"
   ]
  },
  {
   "cell_type": "code",
   "execution_count": 25,
   "id": "49002962-2fa0-498e-a59c-597a53fb826a",
   "metadata": {},
   "outputs": [
    {
     "data": {
      "text/html": [
       "<pre style=\"white-space:pre;overflow-x:auto;line-height:normal;font-family:Menlo,'DejaVu Sans Mono',consolas,'Courier New',monospace\"><span style=\"font-weight: bold\">Model: \"sequential\"</span>\n",
       "</pre>\n"
      ],
      "text/plain": [
       "\u001b[1mModel: \"sequential\"\u001b[0m\n"
      ]
     },
     "metadata": {},
     "output_type": "display_data"
    },
    {
     "data": {
      "text/html": [
       "<pre style=\"white-space:pre;overflow-x:auto;line-height:normal;font-family:Menlo,'DejaVu Sans Mono',consolas,'Courier New',monospace\">┏━━━━━━━━━━━━━━━━━━━━━━━━━━━━━━━━━┳━━━━━━━━━━━━━━━━━━━━━━━━┳━━━━━━━━━━━━━━━┓\n",
       "┃<span style=\"font-weight: bold\"> Layer (type)                    </span>┃<span style=\"font-weight: bold\"> Output Shape           </span>┃<span style=\"font-weight: bold\">       Param # </span>┃\n",
       "┡━━━━━━━━━━━━━━━━━━━━━━━━━━━━━━━━━╇━━━━━━━━━━━━━━━━━━━━━━━━╇━━━━━━━━━━━━━━━┩\n",
       "│ embedding (<span style=\"color: #0087ff; text-decoration-color: #0087ff\">Embedding</span>)           │ ?                      │   <span style=\"color: #00af00; text-decoration-color: #00af00\">0</span> (unbuilt) │\n",
       "├─────────────────────────────────┼────────────────────────┼───────────────┤\n",
       "│ lstm (<span style=\"color: #0087ff; text-decoration-color: #0087ff\">LSTM</span>)                     │ ?                      │   <span style=\"color: #00af00; text-decoration-color: #00af00\">0</span> (unbuilt) │\n",
       "├─────────────────────────────────┼────────────────────────┼───────────────┤\n",
       "│ dropout (<span style=\"color: #0087ff; text-decoration-color: #0087ff\">Dropout</span>)               │ ?                      │             <span style=\"color: #00af00; text-decoration-color: #00af00\">0</span> │\n",
       "├─────────────────────────────────┼────────────────────────┼───────────────┤\n",
       "│ dense (<span style=\"color: #0087ff; text-decoration-color: #0087ff\">Dense</span>)                   │ ?                      │   <span style=\"color: #00af00; text-decoration-color: #00af00\">0</span> (unbuilt) │\n",
       "└─────────────────────────────────┴────────────────────────┴───────────────┘\n",
       "</pre>\n"
      ],
      "text/plain": [
       "┏━━━━━━━━━━━━━━━━━━━━━━━━━━━━━━━━━┳━━━━━━━━━━━━━━━━━━━━━━━━┳━━━━━━━━━━━━━━━┓\n",
       "┃\u001b[1m \u001b[0m\u001b[1mLayer (type)                   \u001b[0m\u001b[1m \u001b[0m┃\u001b[1m \u001b[0m\u001b[1mOutput Shape          \u001b[0m\u001b[1m \u001b[0m┃\u001b[1m \u001b[0m\u001b[1m      Param #\u001b[0m\u001b[1m \u001b[0m┃\n",
       "┡━━━━━━━━━━━━━━━━━━━━━━━━━━━━━━━━━╇━━━━━━━━━━━━━━━━━━━━━━━━╇━━━━━━━━━━━━━━━┩\n",
       "│ embedding (\u001b[38;5;33mEmbedding\u001b[0m)           │ ?                      │   \u001b[38;5;34m0\u001b[0m (unbuilt) │\n",
       "├─────────────────────────────────┼────────────────────────┼───────────────┤\n",
       "│ lstm (\u001b[38;5;33mLSTM\u001b[0m)                     │ ?                      │   \u001b[38;5;34m0\u001b[0m (unbuilt) │\n",
       "├─────────────────────────────────┼────────────────────────┼───────────────┤\n",
       "│ dropout (\u001b[38;5;33mDropout\u001b[0m)               │ ?                      │             \u001b[38;5;34m0\u001b[0m │\n",
       "├─────────────────────────────────┼────────────────────────┼───────────────┤\n",
       "│ dense (\u001b[38;5;33mDense\u001b[0m)                   │ ?                      │   \u001b[38;5;34m0\u001b[0m (unbuilt) │\n",
       "└─────────────────────────────────┴────────────────────────┴───────────────┘\n"
      ]
     },
     "metadata": {},
     "output_type": "display_data"
    },
    {
     "data": {
      "text/html": [
       "<pre style=\"white-space:pre;overflow-x:auto;line-height:normal;font-family:Menlo,'DejaVu Sans Mono',consolas,'Courier New',monospace\"><span style=\"font-weight: bold\"> Total params: </span><span style=\"color: #00af00; text-decoration-color: #00af00\">0</span> (0.00 B)\n",
       "</pre>\n"
      ],
      "text/plain": [
       "\u001b[1m Total params: \u001b[0m\u001b[38;5;34m0\u001b[0m (0.00 B)\n"
      ]
     },
     "metadata": {},
     "output_type": "display_data"
    },
    {
     "data": {
      "text/html": [
       "<pre style=\"white-space:pre;overflow-x:auto;line-height:normal;font-family:Menlo,'DejaVu Sans Mono',consolas,'Courier New',monospace\"><span style=\"font-weight: bold\"> Trainable params: </span><span style=\"color: #00af00; text-decoration-color: #00af00\">0</span> (0.00 B)\n",
       "</pre>\n"
      ],
      "text/plain": [
       "\u001b[1m Trainable params: \u001b[0m\u001b[38;5;34m0\u001b[0m (0.00 B)\n"
      ]
     },
     "metadata": {},
     "output_type": "display_data"
    },
    {
     "data": {
      "text/html": [
       "<pre style=\"white-space:pre;overflow-x:auto;line-height:normal;font-family:Menlo,'DejaVu Sans Mono',consolas,'Courier New',monospace\"><span style=\"font-weight: bold\"> Non-trainable params: </span><span style=\"color: #00af00; text-decoration-color: #00af00\">0</span> (0.00 B)\n",
       "</pre>\n"
      ],
      "text/plain": [
       "\u001b[1m Non-trainable params: \u001b[0m\u001b[38;5;34m0\u001b[0m (0.00 B)\n"
      ]
     },
     "metadata": {},
     "output_type": "display_data"
    }
   ],
   "source": [
    "# Build LSTM model\n",
    "classes = np.unique(y_train)\n",
    "num_classes = len(classes)\n",
    "lstm_model = Sequential([\n",
    "    Embedding(input_dim=10000, output_dim=64),\n",
    "    LSTM(64),\n",
    "    Dropout(0.5),\n",
    "    Dense(len(classes), activation='softmax')  \n",
    "])\n",
    "\n",
    "lstm_model.compile(optimizer='adam', loss='sparse_categorical_crossentropy', metrics=['accuracy'])\n",
    "lstm_model.summary()"
   ]
  },
  {
   "cell_type": "code",
   "execution_count": 27,
   "id": "8397f1db-5f9b-49c2-9405-183c43a00bcd",
   "metadata": {},
   "outputs": [
    {
     "name": "stdout",
     "output_type": "stream",
     "text": [
      "Epoch 1/5\n",
      "415/415 - 10s - 23ms/step - accuracy: 0.7703 - loss: 0.7004 - val_accuracy: 0.7751 - val_loss: 0.6571\n",
      "Epoch 2/5\n",
      "415/415 - 9s - 21ms/step - accuracy: 0.7801 - loss: 0.6534 - val_accuracy: 0.7900 - val_loss: 0.6057\n",
      "Epoch 3/5\n",
      "415/415 - 9s - 21ms/step - accuracy: 0.7966 - loss: 0.6135 - val_accuracy: 0.7954 - val_loss: 0.6113\n",
      "Epoch 4/5\n",
      "415/415 - 9s - 22ms/step - accuracy: 0.7944 - loss: 0.5693 - val_accuracy: 0.7879 - val_loss: 0.6092\n",
      "Epoch 5/5\n",
      "415/415 - 9s - 22ms/step - accuracy: 0.7888 - loss: 0.5634 - val_accuracy: 0.7927 - val_loss: 0.5670\n"
     ]
    }
   ],
   "source": [
    "# Train the model\n",
    "history = lstm_model.fit(\n",
    "    X_train_pad, np.array(y_train),\n",
    "    epochs=5,\n",
    "    batch_size=32,\n",
    "    validation_split=0.1,\n",
    "    verbose=2\n",
    ")"
   ]
  },
  {
   "cell_type": "markdown",
   "id": "2ef87bd8-2b11-48c0-85f2-6f5933aa5638",
   "metadata": {},
   "source": [
    "f1-score and recall vlues are low in 0 and 1, we wondering if the dataset is imblanced"
   ]
  },
  {
   "cell_type": "code",
   "execution_count": 31,
   "id": "b9ff06fc-8ddc-4db9-902f-83d2e9df6e41",
   "metadata": {},
   "outputs": [
    {
     "data": {
      "image/png": "[encoded data removed]",
      "text/plain": [
       "<Figure size 800x600 with 1 Axes>"
      ]
     },
     "metadata": {},
     "output_type": "display_data"
    }
   ],
   "source": [
    "# Plot the sentiment distribution\n",
    "plt.figure(figsize=(8,6))\n",
    "sns.countplot(x='Sentiment', data=df)\n",
    "plt.title('Sentiment Distribution')\n",
    "plt.xlabel('Sentiment')\n",
    "plt.ylabel('Count')\n",
    "plt.show()"
   ]
  },
  {
   "cell_type": "code",
   "execution_count": 33,
   "id": "28c8c61a-ccd6-449d-93ef-f2a0bf8b40e6",
   "metadata": {},
   "outputs": [
    {
     "name": "stdout",
     "output_type": "stream",
     "text": [
      "\n",
      "Computed class weights:\n",
      "{0: 2.301669006395258, 1: 3.989186266558529, 2: 0.431992505416008}\n"
     ]
    }
   ],
   "source": [
    "# Compute class weights based on the original training set (to help address imbalance)\n",
    "classes = np.unique(y_train)\n",
    "class_weights = compute_class_weight(class_weight='balanced', classes=classes, y=y_train)\n",
    "class_weight_dict = dict(zip(classes, class_weights))\n",
    "print(\"\\nComputed class weights:\")\n",
    "print(class_weight_dict)"
   ]
  },
  {
   "cell_type": "code",
   "execution_count": 35,
   "id": "0889431a-44ca-4ad5-8744-1e002a9e2dd4",
   "metadata": {},
   "outputs": [
    {
     "name": "stdout",
     "output_type": "stream",
     "text": [
      "Epoch 1/5\n",
      "415/415 - 9s - 22ms/step - accuracy: 0.6940 - loss: 0.9407 - val_accuracy: 0.4031 - val_loss: 1.0270\n",
      "Epoch 2/5\n",
      "415/415 - 9s - 21ms/step - accuracy: 0.7387 - loss: 0.8895 - val_accuracy: 0.7446 - val_loss: 0.8504\n",
      "Epoch 3/5\n",
      "415/415 - 9s - 21ms/step - accuracy: 0.6903 - loss: 0.8722 - val_accuracy: 0.7940 - val_loss: 0.8893\n",
      "Epoch 4/5\n",
      "415/415 - 9s - 21ms/step - accuracy: 0.7733 - loss: 0.7578 - val_accuracy: 0.7737 - val_loss: 0.7437\n",
      "Epoch 5/5\n",
      "415/415 - 9s - 21ms/step - accuracy: 0.8275 - loss: 0.7231 - val_accuracy: 0.7561 - val_loss: 0.8604\n"
     ]
    }
   ],
   "source": [
    "# Train the model\n",
    "history = lstm_model.fit(\n",
    "    X_train_pad, np.array(y_train),\n",
    "    epochs=5,\n",
    "    batch_size=32,\n",
    "    validation_split=0.1,\n",
    "    class_weight=class_weight_dict,\n",
    "    verbose=2\n",
    ")"
   ]
  },
  {
   "cell_type": "code",
   "execution_count": 37,
   "id": "501a4dc0-a8e9-4fc0-90fd-9eb8fb10826d",
   "metadata": {},
   "outputs": [
    {
     "name": "stdout",
     "output_type": "stream",
     "text": [
      "\u001b[1m116/116\u001b[0m \u001b[32m━━━━━━━━━━━━━━━━━━━━\u001b[0m\u001b[37m\u001b[0m \u001b[1m1s\u001b[0m 6ms/step\n",
      "\n",
      "--- LSTM Model Evaluation (Multi-Class) ---\n",
      "Accuracy: 0.7385\n",
      "Weighted F1 Score: 0.7575\n",
      "\n",
      "Classification Report:\n",
      "               precision    recall  f1-score   support\n",
      "\n",
      "           0       0.50      0.55      0.52       534\n",
      "           1       0.16      0.26      0.20       308\n",
      "           2       0.90      0.83      0.86      2848\n",
      "\n",
      "    accuracy                           0.74      3690\n",
      "   macro avg       0.52      0.54      0.53      3690\n",
      "weighted avg       0.78      0.74      0.76      3690\n",
      "\n"
     ]
    },
    {
     "data": {
      "image/png": "[encoded data removed]",
      "text/plain": [
       "<Figure size 600x400 with 2 Axes>"
      ]
     },
     "metadata": {},
     "output_type": "display_data"
    }
   ],
   "source": [
    "#Evaluate the LSTM Model\n",
    "# Predict probabilities on the test set and convert to predicted class indices\n",
    "y_pred_probs = lstm_model.predict(X_test_pad)\n",
    "y_pred = np.argmax(y_pred_probs, axis=1)\n",
    "\n",
    "# Calculate evaluation metrics\n",
    "accuracy = accuracy_score(y_test, y_pred)\n",
    "weighted_f1 = f1_score(y_test, y_pred, average='weighted')\n",
    "print(\"\\n--- LSTM Model Evaluation (Multi-Class) ---\")\n",
    "print(\"Accuracy: {:.4f}\".format(accuracy))\n",
    "print(\"Weighted F1 Score: {:.4f}\".format(weighted_f1))\n",
    "print(\"\\nClassification Report:\\n\", classification_report(y_test, y_pred))\n",
    "\n",
    "# Plot confusion matrix\n",
    "cm = confusion_matrix(y_test, y_pred)\n",
    "plt.figure(figsize=(6, 4))\n",
    "sns.heatmap(cm, annot=True, fmt='d', cmap='Blues')\n",
    "plt.title(\"Confusion Matrix: LSTM (Multi-Class)\")\n",
    "plt.xlabel(\"Predicted\")\n",
    "plt.ylabel(\"Actual\")\n",
    "plt.show()"
   ]
  },
  {
   "cell_type": "code",
   "execution_count": null,
   "id": "a646db01-5c8f-46ea-90d6-782bb1f6df60",
   "metadata": {},
   "outputs": [],
   "source": []
  },
  {
   "cell_type": "code",
   "execution_count": 47,
   "id": "b8fbd9dd-fd69-4694-a700-e163f8f4cf31",
   "metadata": {},
   "outputs": [
    {
     "data": {
      "text/html": [
       "<pre style=\"white-space:pre;overflow-x:auto;line-height:normal;font-family:Menlo,'DejaVu Sans Mono',consolas,'Courier New',monospace\"><span style=\"font-weight: bold\">Model: \"sequential_2\"</span>\n",
       "</pre>\n"
      ],
      "text/plain": [
       "\u001b[1mModel: \"sequential_2\"\u001b[0m\n"
      ]
     },
     "metadata": {},
     "output_type": "display_data"
    },
    {
     "data": {
      "text/html": [
       "<pre style=\"white-space:pre;overflow-x:auto;line-height:normal;font-family:Menlo,'DejaVu Sans Mono',consolas,'Courier New',monospace\">┏━━━━━━━━━━━━━━━━━━━━━━━━━━━━━━━━━┳━━━━━━━━━━━━━━━━━━━━━━━━┳━━━━━━━━━━━━━━━┓\n",
       "┃<span style=\"font-weight: bold\"> Layer (type)                    </span>┃<span style=\"font-weight: bold\"> Output Shape           </span>┃<span style=\"font-weight: bold\">       Param # </span>┃\n",
       "┡━━━━━━━━━━━━━━━━━━━━━━━━━━━━━━━━━╇━━━━━━━━━━━━━━━━━━━━━━━━╇━━━━━━━━━━━━━━━┩\n",
       "│ embedding_2 (<span style=\"color: #0087ff; text-decoration-color: #0087ff\">Embedding</span>)         │ ?                      │   <span style=\"color: #00af00; text-decoration-color: #00af00\">0</span> (unbuilt) │\n",
       "├─────────────────────────────────┼────────────────────────┼───────────────┤\n",
       "│ lstm_3 (<span style=\"color: #0087ff; text-decoration-color: #0087ff\">LSTM</span>)                   │ ?                      │   <span style=\"color: #00af00; text-decoration-color: #00af00\">0</span> (unbuilt) │\n",
       "├─────────────────────────────────┼────────────────────────┼───────────────┤\n",
       "│ dropout_3 (<span style=\"color: #0087ff; text-decoration-color: #0087ff\">Dropout</span>)             │ ?                      │             <span style=\"color: #00af00; text-decoration-color: #00af00\">0</span> │\n",
       "├─────────────────────────────────┼────────────────────────┼───────────────┤\n",
       "│ lstm_4 (<span style=\"color: #0087ff; text-decoration-color: #0087ff\">LSTM</span>)                   │ ?                      │   <span style=\"color: #00af00; text-decoration-color: #00af00\">0</span> (unbuilt) │\n",
       "├─────────────────────────────────┼────────────────────────┼───────────────┤\n",
       "│ dropout_4 (<span style=\"color: #0087ff; text-decoration-color: #0087ff\">Dropout</span>)             │ ?                      │             <span style=\"color: #00af00; text-decoration-color: #00af00\">0</span> │\n",
       "├─────────────────────────────────┼────────────────────────┼───────────────┤\n",
       "│ dense_2 (<span style=\"color: #0087ff; text-decoration-color: #0087ff\">Dense</span>)                 │ ?                      │   <span style=\"color: #00af00; text-decoration-color: #00af00\">0</span> (unbuilt) │\n",
       "└─────────────────────────────────┴────────────────────────┴───────────────┘\n",
       "</pre>\n"
      ],
      "text/plain": [
       "┏━━━━━━━━━━━━━━━━━━━━━━━━━━━━━━━━━┳━━━━━━━━━━━━━━━━━━━━━━━━┳━━━━━━━━━━━━━━━┓\n",
       "┃\u001b[1m \u001b[0m\u001b[1mLayer (type)                   \u001b[0m\u001b[1m \u001b[0m┃\u001b[1m \u001b[0m\u001b[1mOutput Shape          \u001b[0m\u001b[1m \u001b[0m┃\u001b[1m \u001b[0m\u001b[1m      Param #\u001b[0m\u001b[1m \u001b[0m┃\n",
       "┡━━━━━━━━━━━━━━━━━━━━━━━━━━━━━━━━━╇━━━━━━━━━━━━━━━━━━━━━━━━╇━━━━━━━━━━━━━━━┩\n",
       "│ embedding_2 (\u001b[38;5;33mEmbedding\u001b[0m)         │ ?                      │   \u001b[38;5;34m0\u001b[0m (unbuilt) │\n",
       "├─────────────────────────────────┼────────────────────────┼───────────────┤\n",
       "│ lstm_3 (\u001b[38;5;33mLSTM\u001b[0m)                   │ ?                      │   \u001b[38;5;34m0\u001b[0m (unbuilt) │\n",
       "├─────────────────────────────────┼────────────────────────┼───────────────┤\n",
       "│ dropout_3 (\u001b[38;5;33mDropout\u001b[0m)             │ ?                      │             \u001b[38;5;34m0\u001b[0m │\n",
       "├─────────────────────────────────┼────────────────────────┼───────────────┤\n",
       "│ lstm_4 (\u001b[38;5;33mLSTM\u001b[0m)                   │ ?                      │   \u001b[38;5;34m0\u001b[0m (unbuilt) │\n",
       "├─────────────────────────────────┼────────────────────────┼───────────────┤\n",
       "│ dropout_4 (\u001b[38;5;33mDropout\u001b[0m)             │ ?                      │             \u001b[38;5;34m0\u001b[0m │\n",
       "├─────────────────────────────────┼────────────────────────┼───────────────┤\n",
       "│ dense_2 (\u001b[38;5;33mDense\u001b[0m)                 │ ?                      │   \u001b[38;5;34m0\u001b[0m (unbuilt) │\n",
       "└─────────────────────────────────┴────────────────────────┴───────────────┘\n"
      ]
     },
     "metadata": {},
     "output_type": "display_data"
    },
    {
     "data": {
      "text/html": [
       "<pre style=\"white-space:pre;overflow-x:auto;line-height:normal;font-family:Menlo,'DejaVu Sans Mono',consolas,'Courier New',monospace\"><span style=\"font-weight: bold\"> Total params: </span><span style=\"color: #00af00; text-decoration-color: #00af00\">0</span> (0.00 B)\n",
       "</pre>\n"
      ],
      "text/plain": [
       "\u001b[1m Total params: \u001b[0m\u001b[38;5;34m0\u001b[0m (0.00 B)\n"
      ]
     },
     "metadata": {},
     "output_type": "display_data"
    },
    {
     "data": {
      "text/html": [
       "<pre style=\"white-space:pre;overflow-x:auto;line-height:normal;font-family:Menlo,'DejaVu Sans Mono',consolas,'Courier New',monospace\"><span style=\"font-weight: bold\"> Trainable params: </span><span style=\"color: #00af00; text-decoration-color: #00af00\">0</span> (0.00 B)\n",
       "</pre>\n"
      ],
      "text/plain": [
       "\u001b[1m Trainable params: \u001b[0m\u001b[38;5;34m0\u001b[0m (0.00 B)\n"
      ]
     },
     "metadata": {},
     "output_type": "display_data"
    },
    {
     "data": {
      "text/html": [
       "<pre style=\"white-space:pre;overflow-x:auto;line-height:normal;font-family:Menlo,'DejaVu Sans Mono',consolas,'Courier New',monospace\"><span style=\"font-weight: bold\"> Non-trainable params: </span><span style=\"color: #00af00; text-decoration-color: #00af00\">0</span> (0.00 B)\n",
       "</pre>\n"
      ],
      "text/plain": [
       "\u001b[1m Non-trainable params: \u001b[0m\u001b[38;5;34m0\u001b[0m (0.00 B)\n"
      ]
     },
     "metadata": {},
     "output_type": "display_data"
    }
   ],
   "source": [
    "# Build a stacked LSTM model with two LSTM layers\n",
    "lstm_stacked_model = Sequential([\n",
    "    Embedding(input_dim=10000, output_dim=64),\n",
    "    LSTM(64, return_sequences=True),  \n",
    "    Dropout(0.5),\n",
    "    LSTM(64),                         \n",
    "    Dropout(0.5),\n",
    "    Dense(num_classes, activation='softmax')  \n",
    "])\n",
    "\n",
    "lstm_stacked_model.compile(optimizer='adam', loss='sparse_categorical_crossentropy', metrics=['accuracy'])\n",
    "lstm_stacked_model.summary()\n"
   ]
  },
  {
   "cell_type": "code",
   "execution_count": 49,
   "id": "bea77e2c-9931-43a7-bff8-2e46898a7644",
   "metadata": {},
   "outputs": [
    {
     "name": "stdout",
     "output_type": "stream",
     "text": [
      "Epoch 1/5\n",
      "415/415 - 18s - 43ms/step - accuracy: 0.4178 - loss: 1.1011 - val_accuracy: 0.1308 - val_loss: 1.1031\n",
      "Epoch 2/5\n",
      "415/415 - 17s - 42ms/step - accuracy: 0.5382 - loss: 1.0735 - val_accuracy: 0.2785 - val_loss: 1.0900\n",
      "Epoch 3/5\n",
      "415/415 - 17s - 42ms/step - accuracy: 0.5713 - loss: 1.0073 - val_accuracy: 0.7114 - val_loss: 1.0628\n",
      "Epoch 4/5\n",
      "415/415 - 18s - 43ms/step - accuracy: 0.5587 - loss: 0.9248 - val_accuracy: 0.7195 - val_loss: 1.0468\n",
      "Epoch 5/5\n",
      "415/415 - 17s - 42ms/step - accuracy: 0.6581 - loss: 0.8478 - val_accuracy: 0.6701 - val_loss: 1.0687\n"
     ]
    }
   ],
   "source": [
    "history2 = lstm_stacked_model.fit(\n",
    "    X_train_pad, np.array(y_train),\n",
    "    epochs=5,\n",
    "    batch_size=32,\n",
    "    validation_split=0.1,\n",
    "    class_weight=class_weight_dict,\n",
    "    verbose=2\n",
    ")"
   ]
  },
  {
   "cell_type": "code",
   "execution_count": 51,
   "id": "b579c9dc-aedb-4f40-8abf-01e0d4089627",
   "metadata": {},
   "outputs": [
    {
     "name": "stdout",
     "output_type": "stream",
     "text": [
      "\u001b[1m116/116\u001b[0m \u001b[32m━━━━━━━━━━━━━━━━━━━━\u001b[0m\u001b[37m\u001b[0m \u001b[1m2s\u001b[0m 12ms/step\n",
      "\n",
      "--- LSTM Model Evaluation (Multi-Class) ---\n",
      "Accuracy: 0.6550\n",
      "Weighted F1 Score: 0.6868\n",
      "\n",
      "Classification Report:\n",
      "               precision    recall  f1-score   support\n",
      "\n",
      "           0       0.30      0.65      0.41       534\n",
      "           1       0.17      0.16      0.17       308\n",
      "           2       0.90      0.71      0.80      2848\n",
      "\n",
      "    accuracy                           0.66      3690\n",
      "   macro avg       0.46      0.51      0.46      3690\n",
      "weighted avg       0.76      0.66      0.69      3690\n",
      "\n"
     ]
    },
    {
     "data": {
      "image/png": "[encoded data removed]",
      "text/plain": [
       "<Figure size 600x400 with 2 Axes>"
      ]
     },
     "metadata": {},
     "output_type": "display_data"
    }
   ],
   "source": [
    "#Evaluate the stacked LSTM Model\n",
    "# Predict probabilities on the test set and convert to predicted class indices\n",
    "y_pred_probs = lstm_stacked_model.predict(X_test_pad)\n",
    "y_pred = np.argmax(y_pred_probs, axis=1)\n",
    "\n",
    "# Calculate evaluation metrics\n",
    "accuracy = accuracy_score(y_test, y_pred)\n",
    "weighted_f1 = f1_score(y_test, y_pred, average='weighted')\n",
    "print(\"\\n--- LSTM Model Evaluation (Multi-Class) ---\")\n",
    "print(\"Accuracy: {:.4f}\".format(accuracy))\n",
    "print(\"Weighted F1 Score: {:.4f}\".format(weighted_f1))\n",
    "print(\"\\nClassification Report:\\n\", classification_report(y_test, y_pred))\n",
    "\n",
    "# Plot confusion matrix\n",
    "cm = confusion_matrix(y_test, y_pred)\n",
    "plt.figure(figsize=(6, 4))\n",
    "sns.heatmap(cm, annot=True, fmt='d', cmap='Blues')\n",
    "plt.title(\"Confusion Matrix: LSTM (Multi-Class)\")\n",
    "plt.xlabel(\"Predicted\")\n",
    "plt.ylabel(\"Actual\")\n",
    "plt.show()"
   ]
  },
  {
   "cell_type": "code",
   "execution_count": null,
   "id": "486dabd6-bb07-4038-8a25-9da258601774",
   "metadata": {},
   "outputs": [],
   "source": []
  },
  {
   "cell_type": "code",
   "execution_count": 53,
   "id": "36e912ec-5a3a-4928-adff-97b11f0f8209",
   "metadata": {},
   "outputs": [
    {
     "name": "stdout",
     "output_type": "stream",
     "text": [
      "Training model with LSTM units: 32, Dropout: 0.2, Stacked: False\n",
      "Validation Accuracy: 0.6829\n",
      "Training model with LSTM units: 32, Dropout: 0.2, Stacked: True\n",
      "Validation Accuracy: 0.1992\n",
      "Training model with LSTM units: 32, Dropout: 0.3, Stacked: False\n",
      "Validation Accuracy: 0.7622\n",
      "Training model with LSTM units: 32, Dropout: 0.3, Stacked: True\n",
      "Validation Accuracy: 0.6795\n",
      "Training model with LSTM units: 32, Dropout: 0.5, Stacked: False\n",
      "Validation Accuracy: 0.7215\n",
      "Training model with LSTM units: 32, Dropout: 0.5, Stacked: True\n",
      "Validation Accuracy: 0.7256\n",
      "Training model with LSTM units: 64, Dropout: 0.2, Stacked: False\n",
      "Validation Accuracy: 0.6755\n",
      "Training model with LSTM units: 64, Dropout: 0.2, Stacked: True\n",
      "Validation Accuracy: 0.7344\n",
      "Training model with LSTM units: 64, Dropout: 0.3, Stacked: False\n",
      "Validation Accuracy: 0.5874\n",
      "Training model with LSTM units: 64, Dropout: 0.3, Stacked: True\n",
      "Validation Accuracy: 0.7466\n",
      "Training model with LSTM units: 64, Dropout: 0.5, Stacked: False\n",
      "Validation Accuracy: 0.3035\n",
      "Training model with LSTM units: 64, Dropout: 0.5, Stacked: True\n",
      "Validation Accuracy: 0.6728\n",
      "Training model with LSTM units: 128, Dropout: 0.2, Stacked: False\n",
      "Validation Accuracy: 0.7432\n",
      "Training model with LSTM units: 128, Dropout: 0.2, Stacked: True\n",
      "Validation Accuracy: 0.6592\n",
      "Training model with LSTM units: 128, Dropout: 0.3, Stacked: False\n",
      "Validation Accuracy: 0.7249\n",
      "Training model with LSTM units: 128, Dropout: 0.3, Stacked: True\n",
      "Validation Accuracy: 0.7812\n",
      "Training model with LSTM units: 128, Dropout: 0.5, Stacked: False\n",
      "Validation Accuracy: 0.7358\n",
      "Training model with LSTM units: 128, Dropout: 0.5, Stacked: True\n",
      "Validation Accuracy: 0.6504\n",
      "\n",
      "Best configuration:\n",
      "LSTM Units: 128, Dropout: 0.3, Stacked: True, Val Accuracy: 0.7812\n"
     ]
    }
   ],
   "source": [
    "# Hyperparameter grid\n",
    "lstm_units_list = [32, 64, 128]\n",
    "dropout_rates = [0.2, 0.3, 0.5]\n",
    "stacked_options = [False, True]\n",
    "\n",
    "best_val_acc = 0\n",
    "best_config = None\n",
    "\n",
    "for units in lstm_units_list:\n",
    "    for dropout in dropout_rates:\n",
    "        for stacked in stacked_options:\n",
    "            print(f\"Training model with LSTM units: {units}, Dropout: {dropout}, Stacked: {stacked}\")\n",
    "            model = Sequential()\n",
    "            model.add(Embedding(input_dim=10000, output_dim=64))\n",
    "            # First LSTM layer with return_sequences if stacking is desired\n",
    "            model.add(LSTM(units, return_sequences=stacked))\n",
    "            model.add(Dropout(dropout))\n",
    "            # Optional second LSTM layer\n",
    "            if stacked:\n",
    "                model.add(LSTM(units))\n",
    "                model.add(Dropout(dropout))\n",
    "            model.add(Dense(len(np.unique(y_train)), activation='softmax'))\n",
    "            model.compile(optimizer='adam', loss='sparse_categorical_crossentropy', metrics=['accuracy'])\n",
    "            \n",
    "            history = model.fit(X_train_pad, np.array(y_train),\n",
    "                                epochs=5,\n",
    "                                batch_size=32,\n",
    "                                validation_split=0.1,\n",
    "                                class_weight=class_weight_dict,\n",
    "                                verbose=0)\n",
    "            val_acc = history.history['val_accuracy'][-1]\n",
    "            print(f\"Validation Accuracy: {val_acc:.4f}\")\n",
    "            if val_acc > best_val_acc:\n",
    "                best_val_acc = val_acc\n",
    "                best_config = (units, dropout, stacked)\n",
    "\n",
    "print(\"\\nBest configuration:\")\n",
    "print(f\"LSTM Units: {best_config[0]}, Dropout: {best_config[1]}, Stacked: {best_config[2]}, Val Accuracy: {best_val_acc:.4f}\")"
   ]
  },
  {
   "cell_type": "code",
   "execution_count": 57,
   "id": "3a6919a4-13e2-40b0-8453-4fedfa2095aa",
   "metadata": {},
   "outputs": [
    {
     "data": {
      "text/html": [
       "<pre style=\"white-space:pre;overflow-x:auto;line-height:normal;font-family:Menlo,'DejaVu Sans Mono',consolas,'Courier New',monospace\"><span style=\"font-weight: bold\">Model: \"sequential_22\"</span>\n",
       "</pre>\n"
      ],
      "text/plain": [
       "\u001b[1mModel: \"sequential_22\"\u001b[0m\n"
      ]
     },
     "metadata": {},
     "output_type": "display_data"
    },
    {
     "data": {
      "text/html": [
       "<pre style=\"white-space:pre;overflow-x:auto;line-height:normal;font-family:Menlo,'DejaVu Sans Mono',consolas,'Courier New',monospace\">┏━━━━━━━━━━━━━━━━━━━━━━━━━━━━━━━━━┳━━━━━━━━━━━━━━━━━━━━━━━━┳━━━━━━━━━━━━━━━┓\n",
       "┃<span style=\"font-weight: bold\"> Layer (type)                    </span>┃<span style=\"font-weight: bold\"> Output Shape           </span>┃<span style=\"font-weight: bold\">       Param # </span>┃\n",
       "┡━━━━━━━━━━━━━━━━━━━━━━━━━━━━━━━━━╇━━━━━━━━━━━━━━━━━━━━━━━━╇━━━━━━━━━━━━━━━┩\n",
       "│ embedding_22 (<span style=\"color: #0087ff; text-decoration-color: #0087ff\">Embedding</span>)        │ ?                      │   <span style=\"color: #00af00; text-decoration-color: #00af00\">0</span> (unbuilt) │\n",
       "├─────────────────────────────────┼────────────────────────┼───────────────┤\n",
       "│ lstm_34 (<span style=\"color: #0087ff; text-decoration-color: #0087ff\">LSTM</span>)                  │ ?                      │   <span style=\"color: #00af00; text-decoration-color: #00af00\">0</span> (unbuilt) │\n",
       "├─────────────────────────────────┼────────────────────────┼───────────────┤\n",
       "│ dropout_34 (<span style=\"color: #0087ff; text-decoration-color: #0087ff\">Dropout</span>)            │ ?                      │             <span style=\"color: #00af00; text-decoration-color: #00af00\">0</span> │\n",
       "├─────────────────────────────────┼────────────────────────┼───────────────┤\n",
       "│ lstm_35 (<span style=\"color: #0087ff; text-decoration-color: #0087ff\">LSTM</span>)                  │ ?                      │   <span style=\"color: #00af00; text-decoration-color: #00af00\">0</span> (unbuilt) │\n",
       "├─────────────────────────────────┼────────────────────────┼───────────────┤\n",
       "│ dropout_35 (<span style=\"color: #0087ff; text-decoration-color: #0087ff\">Dropout</span>)            │ ?                      │             <span style=\"color: #00af00; text-decoration-color: #00af00\">0</span> │\n",
       "├─────────────────────────────────┼────────────────────────┼───────────────┤\n",
       "│ dense_22 (<span style=\"color: #0087ff; text-decoration-color: #0087ff\">Dense</span>)                │ ?                      │   <span style=\"color: #00af00; text-decoration-color: #00af00\">0</span> (unbuilt) │\n",
       "└─────────────────────────────────┴────────────────────────┴───────────────┘\n",
       "</pre>\n"
      ],
      "text/plain": [
       "┏━━━━━━━━━━━━━━━━━━━━━━━━━━━━━━━━━┳━━━━━━━━━━━━━━━━━━━━━━━━┳━━━━━━━━━━━━━━━┓\n",
       "┃\u001b[1m \u001b[0m\u001b[1mLayer (type)                   \u001b[0m\u001b[1m \u001b[0m┃\u001b[1m \u001b[0m\u001b[1mOutput Shape          \u001b[0m\u001b[1m \u001b[0m┃\u001b[1m \u001b[0m\u001b[1m      Param #\u001b[0m\u001b[1m \u001b[0m┃\n",
       "┡━━━━━━━━━━━━━━━━━━━━━━━━━━━━━━━━━╇━━━━━━━━━━━━━━━━━━━━━━━━╇━━━━━━━━━━━━━━━┩\n",
       "│ embedding_22 (\u001b[38;5;33mEmbedding\u001b[0m)        │ ?                      │   \u001b[38;5;34m0\u001b[0m (unbuilt) │\n",
       "├─────────────────────────────────┼────────────────────────┼───────────────┤\n",
       "│ lstm_34 (\u001b[38;5;33mLSTM\u001b[0m)                  │ ?                      │   \u001b[38;5;34m0\u001b[0m (unbuilt) │\n",
       "├─────────────────────────────────┼────────────────────────┼───────────────┤\n",
       "│ dropout_34 (\u001b[38;5;33mDropout\u001b[0m)            │ ?                      │             \u001b[38;5;34m0\u001b[0m │\n",
       "├─────────────────────────────────┼────────────────────────┼───────────────┤\n",
       "│ lstm_35 (\u001b[38;5;33mLSTM\u001b[0m)                  │ ?                      │   \u001b[38;5;34m0\u001b[0m (unbuilt) │\n",
       "├─────────────────────────────────┼────────────────────────┼───────────────┤\n",
       "│ dropout_35 (\u001b[38;5;33mDropout\u001b[0m)            │ ?                      │             \u001b[38;5;34m0\u001b[0m │\n",
       "├─────────────────────────────────┼────────────────────────┼───────────────┤\n",
       "│ dense_22 (\u001b[38;5;33mDense\u001b[0m)                │ ?                      │   \u001b[38;5;34m0\u001b[0m (unbuilt) │\n",
       "└─────────────────────────────────┴────────────────────────┴───────────────┘\n"
      ]
     },
     "metadata": {},
     "output_type": "display_data"
    },
    {
     "data": {
      "text/html": [
       "<pre style=\"white-space:pre;overflow-x:auto;line-height:normal;font-family:Menlo,'DejaVu Sans Mono',consolas,'Courier New',monospace\"><span style=\"font-weight: bold\"> Total params: </span><span style=\"color: #00af00; text-decoration-color: #00af00\">0</span> (0.00 B)\n",
       "</pre>\n"
      ],
      "text/plain": [
       "\u001b[1m Total params: \u001b[0m\u001b[38;5;34m0\u001b[0m (0.00 B)\n"
      ]
     },
     "metadata": {},
     "output_type": "display_data"
    },
    {
     "data": {
      "text/html": [
       "<pre style=\"white-space:pre;overflow-x:auto;line-height:normal;font-family:Menlo,'DejaVu Sans Mono',consolas,'Courier New',monospace\"><span style=\"font-weight: bold\"> Trainable params: </span><span style=\"color: #00af00; text-decoration-color: #00af00\">0</span> (0.00 B)\n",
       "</pre>\n"
      ],
      "text/plain": [
       "\u001b[1m Trainable params: \u001b[0m\u001b[38;5;34m0\u001b[0m (0.00 B)\n"
      ]
     },
     "metadata": {},
     "output_type": "display_data"
    },
    {
     "data": {
      "text/html": [
       "<pre style=\"white-space:pre;overflow-x:auto;line-height:normal;font-family:Menlo,'DejaVu Sans Mono',consolas,'Courier New',monospace\"><span style=\"font-weight: bold\"> Non-trainable params: </span><span style=\"color: #00af00; text-decoration-color: #00af00\">0</span> (0.00 B)\n",
       "</pre>\n"
      ],
      "text/plain": [
       "\u001b[1m Non-trainable params: \u001b[0m\u001b[38;5;34m0\u001b[0m (0.00 B)\n"
      ]
     },
     "metadata": {},
     "output_type": "display_data"
    }
   ],
   "source": [
    "# Build a stacked LSTM model with best configuration\n",
    "lstm_best_model = Sequential([\n",
    "    Embedding(input_dim=10000, output_dim=64),\n",
    "    LSTM(128, return_sequences=True),  \n",
    "    Dropout(0.3),\n",
    "    LSTM(128),                         \n",
    "    Dropout(0.3),\n",
    "    Dense(num_classes, activation='softmax')  \n",
    "])\n",
    "\n",
    "lstm_best_model.compile(optimizer='adam', loss='sparse_categorical_crossentropy', metrics=['accuracy'])\n",
    "lstm_best_model.summary()\n"
   ]
  },
  {
   "cell_type": "code",
   "execution_count": 59,
   "id": "34aae2fb-ee8f-4126-8ebd-cff70eaeb9a6",
   "metadata": {},
   "outputs": [
    {
     "name": "stdout",
     "output_type": "stream",
     "text": [
      "Epoch 1/20\n",
      "415/415 - 55s - 131ms/step - accuracy: 0.3899 - loss: 1.1011 - val_accuracy: 0.6125 - val_loss: 1.0811\n",
      "Epoch 2/20\n",
      "415/415 - 53s - 128ms/step - accuracy: 0.5504 - loss: 1.0738 - val_accuracy: 0.6179 - val_loss: 1.2197\n",
      "Epoch 3/20\n",
      "415/415 - 53s - 128ms/step - accuracy: 0.5334 - loss: 0.9802 - val_accuracy: 0.2310 - val_loss: 1.1430\n",
      "Epoch 4/20\n",
      "415/415 - 52s - 124ms/step - accuracy: 0.6218 - loss: 0.8730 - val_accuracy: 0.7846 - val_loss: 0.8705\n",
      "Epoch 5/20\n",
      "415/415 - 50s - 121ms/step - accuracy: 0.7143 - loss: 0.7779 - val_accuracy: 0.6721 - val_loss: 0.9270\n",
      "Epoch 6/20\n",
      "415/415 - 52s - 124ms/step - accuracy: 0.7979 - loss: 0.6523 - val_accuracy: 0.7459 - val_loss: 0.7707\n",
      "Epoch 7/20\n",
      "415/415 - 53s - 127ms/step - accuracy: 0.8262 - loss: 0.5604 - val_accuracy: 0.7507 - val_loss: 0.7732\n",
      "Epoch 8/20\n",
      "415/415 - 52s - 124ms/step - accuracy: 0.8553 - loss: 0.4881 - val_accuracy: 0.7832 - val_loss: 0.6871\n",
      "Epoch 9/20\n",
      "415/415 - 52s - 126ms/step - accuracy: 0.8813 - loss: 0.4071 - val_accuracy: 0.7690 - val_loss: 0.7679\n",
      "Epoch 10/20\n",
      "415/415 - 50s - 121ms/step - accuracy: 0.8979 - loss: 0.3290 - val_accuracy: 0.7337 - val_loss: 0.8324\n",
      "Epoch 11/20\n",
      "415/415 - 51s - 124ms/step - accuracy: 0.9224 - loss: 0.2649 - val_accuracy: 0.6762 - val_loss: 1.0735\n",
      "Epoch 12/20\n",
      "415/415 - 53s - 127ms/step - accuracy: 0.9338 - loss: 0.2197 - val_accuracy: 0.7724 - val_loss: 0.7861\n",
      "Epoch 13/20\n",
      "415/415 - 52s - 125ms/step - accuracy: 0.9504 - loss: 0.1726 - val_accuracy: 0.7744 - val_loss: 0.8052\n",
      "Epoch 14/20\n",
      "415/415 - 51s - 123ms/step - accuracy: 0.9607 - loss: 0.1427 - val_accuracy: 0.7920 - val_loss: 0.7844\n",
      "Epoch 15/20\n",
      "415/415 - 50s - 120ms/step - accuracy: 0.9627 - loss: 0.1275 - val_accuracy: 0.7270 - val_loss: 0.9793\n",
      "Epoch 16/20\n",
      "415/415 - 53s - 129ms/step - accuracy: 0.9725 - loss: 0.1049 - val_accuracy: 0.8211 - val_loss: 0.8364\n",
      "Epoch 17/20\n",
      "415/415 - 49s - 119ms/step - accuracy: 0.9764 - loss: 0.0851 - val_accuracy: 0.7859 - val_loss: 0.9476\n",
      "Epoch 18/20\n",
      "415/415 - 50s - 121ms/step - accuracy: 0.9807 - loss: 0.0831 - val_accuracy: 0.7893 - val_loss: 0.9966\n",
      "Epoch 19/20\n",
      "415/415 - 52s - 126ms/step - accuracy: 0.9828 - loss: 0.0675 - val_accuracy: 0.7967 - val_loss: 1.0056\n",
      "Epoch 20/20\n",
      "415/415 - 52s - 125ms/step - accuracy: 0.9799 - loss: 0.0660 - val_accuracy: 0.7934 - val_loss: 0.9817\n"
     ]
    }
   ],
   "source": [
    "history3 = lstm_best_model.fit(\n",
    "    X_train_pad, np.array(y_train),\n",
    "    epochs=20,\n",
    "    batch_size=32,\n",
    "    validation_split=0.1,\n",
    "    class_weight=class_weight_dict,\n",
    "    verbose=2\n",
    ")"
   ]
  },
  {
   "cell_type": "code",
   "execution_count": 61,
   "id": "9a54833f-738e-4e9f-b247-aa97ccfd41d0",
   "metadata": {},
   "outputs": [
    {
     "name": "stdout",
     "output_type": "stream",
     "text": [
      "\u001b[1m116/116\u001b[0m \u001b[32m━━━━━━━━━━━━━━━━━━━━\u001b[0m\u001b[37m\u001b[0m \u001b[1m4s\u001b[0m 37ms/step\n",
      "\n",
      "--- LSTM Model Evaluation (Multi-Class) ---\n",
      "Accuracy: 0.7743\n",
      "Weighted F1 Score: 0.7784\n",
      "\n",
      "Classification Report:\n",
      "               precision    recall  f1-score   support\n",
      "\n",
      "           0       0.57      0.52      0.55       534\n",
      "           1       0.22      0.27      0.24       308\n",
      "           2       0.88      0.88      0.88      2848\n",
      "\n",
      "    accuracy                           0.77      3690\n",
      "   macro avg       0.56      0.56      0.56      3690\n",
      "weighted avg       0.78      0.77      0.78      3690\n",
      "\n"
     ]
    },
    {
     "data": {
      "image/png": "[encoded data removed]",
      "text/plain": [
       "<Figure size 600x400 with 2 Axes>"
      ]
     },
     "metadata": {},
     "output_type": "display_data"
    }
   ],
   "source": [
    "#Evaluate the stacked LSTM Model\n",
    "# Predict probabilities on the test set and convert to predicted class indices\n",
    "y_pred_probs = lstm_best_model.predict(X_test_pad)\n",
    "y_pred = np.argmax(y_pred_probs, axis=1)\n",
    "\n",
    "# Calculate evaluation metrics\n",
    "accuracy = accuracy_score(y_test, y_pred)\n",
    "weighted_f1 = f1_score(y_test, y_pred, average='weighted')\n",
    "print(\"\\n--- LSTM Model Evaluation (Multi-Class) ---\")\n",
    "print(\"Accuracy: {:.4f}\".format(accuracy))\n",
    "print(\"Weighted F1 Score: {:.4f}\".format(weighted_f1))\n",
    "print(\"\\nClassification Report:\\n\", classification_report(y_test, y_pred))\n",
    "\n",
    "# Plot confusion matrix\n",
    "cm = confusion_matrix(y_test, y_pred)\n",
    "plt.figure(figsize=(6, 4))\n",
    "sns.heatmap(cm, annot=True, fmt='d', cmap='Blues')\n",
    "plt.title(\"Confusion Matrix: LSTM (Multi-Class)\")\n",
    "plt.xlabel(\"Predicted\")\n",
    "plt.ylabel(\"Actual\")\n",
    "plt.show()"
   ]
  },
  {
   "cell_type": "code",
   "execution_count": 63,
   "id": "dff7523c-6ff2-40be-8ad3-0da3bdba5f67",
   "metadata": {},
   "outputs": [
    {
     "name": "stdout",
     "output_type": "stream",
     "text": [
      "Epoch 1/5\n",
      "415/415 - 48s - 117ms/step - accuracy: 0.9855 - loss: 0.0558 - val_accuracy: 0.7514 - val_loss: 1.1678\n",
      "Epoch 2/5\n",
      "415/415 - 49s - 118ms/step - accuracy: 0.9831 - loss: 0.0601 - val_accuracy: 0.8015 - val_loss: 1.0470\n",
      "Epoch 3/5\n",
      "415/415 - 51s - 123ms/step - accuracy: 0.9812 - loss: 0.0738 - val_accuracy: 0.7656 - val_loss: 1.0878\n",
      "Epoch 4/5\n",
      "415/415 - 53s - 127ms/step - accuracy: 0.9880 - loss: 0.0440 - val_accuracy: 0.8062 - val_loss: 0.9673\n",
      "Epoch 5/5\n",
      "415/415 - 49s - 118ms/step - accuracy: 0.9888 - loss: 0.0418 - val_accuracy: 0.8062 - val_loss: 1.0789\n"
     ]
    }
   ],
   "source": [
    "history3 = lstm_best_model.fit(\n",
    "    X_train_pad, np.array(y_train),\n",
    "    epochs=5,\n",
    "    batch_size=32,\n",
    "    validation_split=0.1,\n",
    "    class_weight=class_weight_dict,\n",
    "    verbose=2\n",
    ")"
   ]
  },
  {
   "cell_type": "code",
   "execution_count": 65,
   "id": "a9baf1c8-72c8-44f0-adac-a1395ab40c93",
   "metadata": {},
   "outputs": [
    {
     "name": "stdout",
     "output_type": "stream",
     "text": [
      "\u001b[1m116/116\u001b[0m \u001b[32m━━━━━━━━━━━━━━━━━━━━\u001b[0m\u001b[37m\u001b[0m \u001b[1m5s\u001b[0m 39ms/step\n",
      "\n",
      "--- LSTM Model Evaluation (Multi-Class) ---\n",
      "Accuracy: 0.7867\n",
      "Weighted F1 Score: 0.7866\n",
      "\n",
      "Classification Report:\n",
      "               precision    recall  f1-score   support\n",
      "\n",
      "           0       0.60      0.50      0.55       534\n",
      "           1       0.24      0.28      0.26       308\n",
      "           2       0.88      0.90      0.89      2848\n",
      "\n",
      "    accuracy                           0.79      3690\n",
      "   macro avg       0.58      0.56      0.57      3690\n",
      "weighted avg       0.79      0.79      0.79      3690\n",
      "\n"
     ]
    },
    {
     "data": {
      "image/png": "[encoded data removed]",
      "text/plain": [
       "<Figure size 600x400 with 2 Axes>"
      ]
     },
     "metadata": {},
     "output_type": "display_data"
    }
   ],
   "source": [
    "#Evaluate the stacked LSTM Model\n",
    "# Predict probabilities on the test set and convert to predicted class indices\n",
    "y_pred_probs = lstm_best_model.predict(X_test_pad)\n",
    "y_pred = np.argmax(y_pred_probs, axis=1)\n",
    "\n",
    "# Calculate evaluation metrics\n",
    "accuracy = accuracy_score(y_test, y_pred)\n",
    "weighted_f1 = f1_score(y_test, y_pred, average='weighted')\n",
    "print(\"\\n--- LSTM Model Evaluation (Multi-Class) ---\")\n",
    "print(\"Accuracy: {:.4f}\".format(accuracy))\n",
    "print(\"Weighted F1 Score: {:.4f}\".format(weighted_f1))\n",
    "print(\"\\nClassification Report:\\n\", classification_report(y_test, y_pred))\n",
    "\n",
    "# Plot confusion matrix\n",
    "cm = confusion_matrix(y_test, y_pred)\n",
    "plt.figure(figsize=(6, 4))\n",
    "sns.heatmap(cm, annot=True, fmt='d', cmap='Blues')\n",
    "plt.title(\"Confusion Matrix: LSTM (Multi-Class)\")\n",
    "plt.xlabel(\"Predicted\")\n",
    "plt.ylabel(\"Actual\")\n",
    "plt.show()"
   ]
  },
  {
   "cell_type": "code",
   "execution_count": null,
   "id": "2e8f4749-e436-4765-98a2-b08f80899470",
   "metadata": {},
   "outputs": [],
   "source": []
  }
 ],
 "metadata": {
  "kernelspec": {
   "display_name": "Python [conda env:base] *",
   "language": "python",
   "name": "conda-base-py"
  },
  "language_info": {
   "codemirror_mode": {
    "name": "ipython",
    "version": 3
   },
   "file_extension": ".py",
   "mimetype": "text/x-python",
   "name": "python",
   "nbconvert_exporter": "python",
   "pygments_lexer": "ipython3",
   "version": "3.10.13"
  }
 },
 "nbformat": 4,
 "nbformat_minor": 5
}
